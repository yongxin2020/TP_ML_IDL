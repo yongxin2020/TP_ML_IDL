{
 "cells": [
  {
   "cell_type": "markdown",
   "id": "8cf260a3",
   "metadata": {},
   "source": [
    "Not having access to the original Kaggle test set, I split the original validation set into validation + test sets (half + half and random)."
   ]
  },
  {
   "cell_type": "code",
   "execution_count": 11,
   "id": "4bb3b6e3",
   "metadata": {},
   "outputs": [],
   "source": [
    "import os, random, shutil\n",
    "\n",
    "def moveFile(fileDir,tarDir):\n",
    "        pathDir = os.listdir(fileDir)    #取图片的原始路径\n",
    "        filenumber=len(pathDir)\n",
    "        rate=0.5                        #自定义抽取图片的比例，比方说100张抽10张，那就是0.1\n",
    "        picknumber=int(filenumber*rate) #按照rate比例从文件夹中取一定数量图片\n",
    "        sample = random.sample(pathDir, picknumber)  #随机选取picknumber数量的样本图片\n",
    "\n",
    "        for name in sample:\n",
    "            shutil.move(fileDir+name, tarDir+name)\n",
    "\n",
    "if __name__ == '__main__':\n",
    "    fileDir = \"./validation/\"    #源图片文件夹路径\n",
    "    tarDir  = \"./test/\"       #移动到新的文件夹路径\n",
    "    \n",
    "    for oneDir in os.listdir(fileDir): \n",
    "        onefileDir = fileDir+oneDir+\"/\"  # A的二级目录\n",
    "        onetarDir  = tarDir+oneDir+\"/\"   # B的二级目录\n",
    "        # 判断文件夹是否存在，不存在则创建\n",
    "        if not os.path.exists(onefileDir):\n",
    "            os.makedirs(onefileDir)\n",
    "        if not os.path.exists(onetarDir):\n",
    "            os.makedirs(onetarDir)\n",
    "        \n",
    "        moveFile(onefileDir,onetarDir)"
   ]
  }
 ],
 "metadata": {
  "kernelspec": {
   "display_name": "Python 3 (ipykernel)",
   "language": "python",
   "name": "python3"
  },
  "language_info": {
   "codemirror_mode": {
    "name": "ipython",
    "version": 3
   },
   "file_extension": ".py",
   "mimetype": "text/x-python",
   "name": "python",
   "nbconvert_exporter": "python",
   "pygments_lexer": "ipython3",
   "version": "3.8.5"
  },
  "toc": {
   "base_numbering": 1,
   "nav_menu": {},
   "number_sections": true,
   "sideBar": true,
   "skip_h1_title": false,
   "title_cell": "Table of Contents",
   "title_sidebar": "Contents",
   "toc_cell": false,
   "toc_position": {},
   "toc_section_display": true,
   "toc_window_display": false
  }
 },
 "nbformat": 4,
 "nbformat_minor": 5
}
